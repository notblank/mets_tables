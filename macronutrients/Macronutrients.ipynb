{
 "cells": [
  {
   "cell_type": "code",
   "execution_count": 1,
   "metadata": {},
   "outputs": [
    {
     "name": "stderr",
     "output_type": "stream",
     "text": [
      "── \u001b[1mAttaching packages\u001b[22m ─────────────────────────────────────────────────────────────────────────────── tidyverse 1.3.0 ──\n",
      "\n",
      "\u001b[32m✔\u001b[39m \u001b[34mggplot2\u001b[39m 3.3.3     \u001b[32m✔\u001b[39m \u001b[34mpurrr  \u001b[39m 0.3.4\n",
      "\u001b[32m✔\u001b[39m \u001b[34mtibble \u001b[39m 3.1.0     \u001b[32m✔\u001b[39m \u001b[34mdplyr  \u001b[39m 1.0.5\n",
      "\u001b[32m✔\u001b[39m \u001b[34mtidyr  \u001b[39m 1.1.3     \u001b[32m✔\u001b[39m \u001b[34mstringr\u001b[39m 1.4.0\n",
      "\u001b[32m✔\u001b[39m \u001b[34mreadr  \u001b[39m 1.4.0     \u001b[32m✔\u001b[39m \u001b[34mforcats\u001b[39m 0.5.1\n",
      "\n",
      "── \u001b[1mConflicts\u001b[22m ────────────────────────────────────────────────────────────────────────────────── tidyverse_conflicts() ──\n",
      "\u001b[31m✖\u001b[39m \u001b[34mdplyr\u001b[39m::\u001b[32mfilter()\u001b[39m masks \u001b[34mstats\u001b[39m::filter()\n",
      "\u001b[31m✖\u001b[39m \u001b[34mdplyr\u001b[39m::\u001b[32mlag()\u001b[39m    masks \u001b[34mstats\u001b[39m::lag()\n",
      "\n",
      "Loading required package: carData\n",
      "\n",
      "\n",
      "Attaching package: ‘car’\n",
      "\n",
      "\n",
      "The following object is masked from ‘package:dplyr’:\n",
      "\n",
      "    recode\n",
      "\n",
      "\n",
      "The following object is masked from ‘package:purrr’:\n",
      "\n",
      "    some\n",
      "\n",
      "\n",
      "Loading required package: Hmisc\n",
      "\n",
      "Loading required package: lattice\n",
      "\n",
      "Loading required package: survival\n",
      "\n",
      "Loading required package: Formula\n",
      "\n",
      "\n",
      "Attaching package: ‘Hmisc’\n",
      "\n",
      "\n",
      "The following objects are masked from ‘package:dplyr’:\n",
      "\n",
      "    src, summarize\n",
      "\n",
      "\n",
      "The following objects are masked from ‘package:base’:\n",
      "\n",
      "    format.pval, units\n",
      "\n",
      "\n",
      "Loading required package: SparseM\n",
      "\n",
      "\n",
      "Attaching package: ‘SparseM’\n",
      "\n",
      "\n",
      "The following object is masked from ‘package:base’:\n",
      "\n",
      "    backsolve\n",
      "\n",
      "\n",
      "\n",
      "Attaching package: ‘rms’\n",
      "\n",
      "\n",
      "The following objects are masked from ‘package:car’:\n",
      "\n",
      "    Predict, vif\n",
      "\n",
      "\n"
     ]
    }
   ],
   "source": [
    "library(tidyverse)\n",
    "library(broom)\n",
    "library(car)\n",
    "library(rms)"
   ]
  },
  {
   "cell_type": "code",
   "execution_count": 3,
   "metadata": {
    "scrolled": false
   },
   "outputs": [
    {
     "name": "stderr",
     "output_type": "stream",
     "text": [
      "\n",
      "\u001b[36m──\u001b[39m \u001b[1m\u001b[1mColumn specification\u001b[1m\u001b[22m \u001b[36m────────────────────────────────────────────────────────────────────────────────────────────────\u001b[39m\n",
      "cols(\n",
      "  id = \u001b[32mcol_double()\u001b[39m,\n",
      "  carbohydrates = \u001b[32mcol_double()\u001b[39m,\n",
      "  energy = \u001b[32mcol_double()\u001b[39m,\n",
      "  fiber = \u001b[32mcol_double()\u001b[39m,\n",
      "  lipids = \u001b[32mcol_double()\u001b[39m,\n",
      "  protein = \u001b[32mcol_double()\u001b[39m,\n",
      "  energy_macro = \u001b[32mcol_double()\u001b[39m,\n",
      "  percent_carbohydrate = \u001b[32mcol_double()\u001b[39m,\n",
      "  percent_protein = \u001b[32mcol_double()\u001b[39m,\n",
      "  percent_lipids = \u001b[32mcol_double()\u001b[39m,\n",
      "  beef_cat = \u001b[31mcol_character()\u001b[39m,\n",
      "  dairy_cat = \u001b[31mcol_character()\u001b[39m,\n",
      "  legumes_cat = \u001b[31mcol_character()\u001b[39m,\n",
      "  white_meat_cat = \u001b[31mcol_character()\u001b[39m,\n",
      "  beef = \u001b[32mcol_double()\u001b[39m,\n",
      "  dairy = \u001b[32mcol_double()\u001b[39m,\n",
      "  legumes = \u001b[32mcol_double()\u001b[39m,\n",
      "  white_meat = \u001b[32mcol_double()\u001b[39m\n",
      ")\n",
      "\n",
      "\n",
      "\n",
      "\u001b[36m──\u001b[39m \u001b[1m\u001b[1mColumn specification\u001b[1m\u001b[22m \u001b[36m────────────────────────────────────────────────────────────────────────────────────────────────\u001b[39m\n",
      "cols(\n",
      "  .default = col_double(),\n",
      "  education = \u001b[31mcol_character()\u001b[39m,\n",
      "  sex = \u001b[31mcol_character()\u001b[39m,\n",
      "  location_type = \u001b[31mcol_character()\u001b[39m,\n",
      "  smokes = \u001b[31mcol_character()\u001b[39m,\n",
      "  drinks = \u001b[31mcol_character()\u001b[39m,\n",
      "  elevated_bp = \u001b[33mcol_logical()\u001b[39m,\n",
      "  elevated_triglycerids_mg_d_l = \u001b[33mcol_logical()\u001b[39m,\n",
      "  elevated_glucose_mg_d_l = \u001b[33mcol_logical()\u001b[39m,\n",
      "  low_hdl_mg_d_l = \u001b[33mcol_logical()\u001b[39m,\n",
      "  met_s = \u001b[33mcol_logical()\u001b[39m,\n",
      "  d_diagnosed = \u001b[33mcol_logical()\u001b[39m,\n",
      "  h_diagnosed = \u001b[33mcol_logical()\u001b[39m\n",
      ")\n",
      "\u001b[36mℹ\u001b[39m Use \u001b[30m\u001b[47m\u001b[30m\u001b[47m`spec()`\u001b[47m\u001b[30m\u001b[49m\u001b[39m for the full column specifications.\n",
      "\n",
      "\n"
     ]
    }
   ],
   "source": [
    "macro_nut_portions_info.csv <- read_csv('../data/macro_nut_portions_info.csv')\n",
    "conditions_info <- read_csv('../data/conditions_info.csv') "
   ]
  },
  {
   "cell_type": "code",
   "execution_count": 4,
   "metadata": {},
   "outputs": [],
   "source": [
    "macro_info <- conditions_info %>% \n",
    "    inner_join(macro_nut_portions_info.csv, by = 'id')"
   ]
  },
  {
   "cell_type": "markdown",
   "metadata": {},
   "source": [
    "## Macronutrients and conditions"
   ]
  },
  {
   "cell_type": "code",
   "execution_count": 5,
   "metadata": {},
   "outputs": [
    {
     "data": {
      "text/html": [
       "<table class=\"dataframe\">\n",
       "<caption>A tibble: 3 × 3</caption>\n",
       "<thead>\n",
       "\t<tr><th scope=col>source</th><th scope=col>m_macro</th><th scope=col>sd_macro</th></tr>\n",
       "\t<tr><th scope=col>&lt;chr&gt;</th><th scope=col>&lt;dbl&gt;</th><th scope=col>&lt;dbl&gt;</th></tr>\n",
       "</thead>\n",
       "<tbody>\n",
       "\t<tr><td>percent_carbohydrate</td><td>54.7</td><td>7.8</td></tr>\n",
       "\t<tr><td>percent_lipids      </td><td>22.8</td><td>5.3</td></tr>\n",
       "\t<tr><td>percent_protein     </td><td>22.5</td><td>4.9</td></tr>\n",
       "</tbody>\n",
       "</table>\n"
      ],
      "text/latex": [
       "A tibble: 3 × 3\n",
       "\\begin{tabular}{lll}\n",
       " source & m\\_macro & sd\\_macro\\\\\n",
       " <chr> & <dbl> & <dbl>\\\\\n",
       "\\hline\n",
       "\t percent\\_carbohydrate & 54.7 & 7.8\\\\\n",
       "\t percent\\_lipids       & 22.8 & 5.3\\\\\n",
       "\t percent\\_protein      & 22.5 & 4.9\\\\\n",
       "\\end{tabular}\n"
      ],
      "text/markdown": [
       "\n",
       "A tibble: 3 × 3\n",
       "\n",
       "| source &lt;chr&gt; | m_macro &lt;dbl&gt; | sd_macro &lt;dbl&gt; |\n",
       "|---|---|---|\n",
       "| percent_carbohydrate | 54.7 | 7.8 |\n",
       "| percent_lipids       | 22.8 | 5.3 |\n",
       "| percent_protein      | 22.5 | 4.9 |\n",
       "\n"
      ],
      "text/plain": [
       "  source               m_macro sd_macro\n",
       "1 percent_carbohydrate 54.7    7.8     \n",
       "2 percent_lipids       22.8    5.3     \n",
       "3 percent_protein      22.5    4.9     "
      ]
     },
     "metadata": {},
     "output_type": "display_data"
    }
   ],
   "source": [
    "macro_info %>% \n",
    "    select(contains(\"percent_\")) %>% \n",
    "    pivot_longer(cols = contains(\"percent_\"), names_to = \"source\", values_to = \"percent\") %>% \n",
    "    group_by(source) %>% \n",
    "    summarise(m_macro = round(100*mean(percent), 1), sd_macro = round(100*sd(percent), 1))"
   ]
  },
  {
   "cell_type": "code",
   "execution_count": 6,
   "metadata": {},
   "outputs": [],
   "source": [
    "t_test_macro <- function(condition, macro){\n",
    "    \n",
    "    t_df <- macro_info %>% \n",
    "                mutate(overweight_obesity = ifelse(bmi >= 25, TRUE, FALSE)) %>% \n",
    "                na.omit() %>% \n",
    "                select(condition, macro) \n",
    "\n",
    "    t <- t.test(x = t_df %>% filter(get(condition) == TRUE), \n",
    "                y = t_df %>% filter(get(condition) == FALSE))\n",
    "    \n",
    "    return(t)\n",
    "}"
   ]
  },
  {
   "cell_type": "code",
   "execution_count": 7,
   "metadata": {
    "scrolled": true
   },
   "outputs": [
    {
     "name": "stderr",
     "output_type": "stream",
     "text": [
      "`summarise()` has grouped output by 'met_s'. You can override using the `.groups` argument.\n",
      "\n",
      "Note: Using an external vector in selections is ambiguous.\n",
      "\u001b[34mℹ\u001b[39m Use `all_of(condition)` instead of `condition` to silence this message.\n",
      "\u001b[34mℹ\u001b[39m See <https://tidyselect.r-lib.org/reference/faq-external-vector.html>.\n",
      "\u001b[90mThis message is displayed once per session.\u001b[39m\n",
      "\n",
      "Note: Using an external vector in selections is ambiguous.\n",
      "\u001b[34mℹ\u001b[39m Use `all_of(macro)` instead of `macro` to silence this message.\n",
      "\u001b[34mℹ\u001b[39m See <https://tidyselect.r-lib.org/reference/faq-external-vector.html>.\n",
      "\u001b[90mThis message is displayed once per session.\u001b[39m\n",
      "\n"
     ]
    }
   ],
   "source": [
    "energy_met_s <- macro_info %>% \n",
    "    na.omit() %>% \n",
    "    select(met_s, energy) %>% \n",
    "    pivot_longer(cols = -met_s, names_to = 'source', values_to = 'percent') %>% \n",
    "    group_by(met_s, source) %>% \n",
    "    summarise(m_percent = mean(percent), sd_percent = sd(percent)) %>% \n",
    "    mutate(m_percent = round(m_percent, 0), sd_percent = round(sd_percent, 0), \n",
    "           dist = paste(m_percent,sd_percent, sep='')) %>% \n",
    "    select(met_s, source, dist) %>% \n",
    "    pivot_wider(names_from = met_s, values_from = dist) %>% \n",
    "    mutate(condition = 'met_s') %>% \n",
    "    bind_cols(p_val = round(t_test_macro(\"met_s\", \"energy\")$p.val, 3))"
   ]
  },
  {
   "cell_type": "code",
   "execution_count": 8,
   "metadata": {},
   "outputs": [
    {
     "name": "stderr",
     "output_type": "stream",
     "text": [
      "`summarise()` has grouped output by 'met_s'. You can override using the `.groups` argument.\n",
      "\n"
     ]
    }
   ],
   "source": [
    "mets_macro <- macro_info %>% \n",
    "    na.omit() %>% \n",
    "    select(met_s, contains('percent')) %>% \n",
    "    pivot_longer(cols = -met_s, names_to = 'source', values_to = 'percent') %>% \n",
    "    mutate(source = str_remove(source, 'percent_')) %>% \n",
    "    group_by(met_s, source) %>% \n",
    "    summarise(m_percent = mean(percent), sd_percent = sd(percent)) %>% \n",
    "    mutate(m_percent = round(100*m_percent, 0), sd_percent = round(100*sd_percent, 0), \n",
    "           dist = paste(m_percent, '% ', sd_percent, '%', sep='')) %>% \n",
    "    select(met_s, source, dist) %>% \n",
    "    pivot_wider(names_from = met_s, values_from = dist) %>% \n",
    "    mutate(condition = 'met_s') %>% \n",
    "    bind_cols(tibble(p_val = c(t_test_macro(\"met_s\", \"carbohydrates\")$p.val, \n",
    "                               t_test_macro(\"met_s\", \"lipids\")$p.val, \n",
    "                               t_test_macro(\"met_s\", \"protein\")$p.val))) %>% \n",
    "    mutate(p_val = round(p_val, 3))"
   ]
  },
  {
   "cell_type": "code",
   "execution_count": 9,
   "metadata": {},
   "outputs": [
    {
     "name": "stderr",
     "output_type": "stream",
     "text": [
      "`summarise()` has grouped output by 'd_diagnosed'. You can override using the `.groups` argument.\n",
      "\n"
     ]
    }
   ],
   "source": [
    "dm2_macro <- macro_info %>% \n",
    "    na.omit() %>% \n",
    "    select(d_diagnosed, contains('percent')) %>% \n",
    "    pivot_longer(cols = -d_diagnosed, names_to = 'source', values_to = 'percent') %>% \n",
    "    mutate(source = str_remove(source, 'percent_')) %>% \n",
    "    group_by(d_diagnosed, source) %>% \n",
    "    summarise(m_percent = mean(percent), sd_percent = sd(percent)) %>% \n",
    "    mutate(m_percent = round(100*m_percent, 0), sd_percent = round(100*sd_percent, 0), \n",
    "           dist = paste(m_percent, '% ', sd_percent, '%', sep='')) %>% \n",
    "    select(d_diagnosed, source, dist) %>% \n",
    "    pivot_wider(names_from = d_diagnosed, values_from = dist)%>% \n",
    "    mutate(condition = 'dm2') %>% \n",
    "    bind_cols(tibble(p_val = c(t_test_macro(\"d_diagnosed\", \"carbohydrates\")$p.val, \n",
    "                               t_test_macro(\"d_diagnosed\", \"lipids\")$p.val, \n",
    "                               t_test_macro(\"d_diagnosed\", \"protein\")$p.val))) %>% \n",
    "    mutate(p_val = round(p_val, 3))"
   ]
  },
  {
   "cell_type": "code",
   "execution_count": 10,
   "metadata": {},
   "outputs": [
    {
     "name": "stderr",
     "output_type": "stream",
     "text": [
      "`summarise()` has grouped output by 'd_diagnosed'. You can override using the `.groups` argument.\n",
      "\n"
     ]
    }
   ],
   "source": [
    "energy_dm2 <- macro_info %>% \n",
    "    na.omit() %>% \n",
    "    select(d_diagnosed, energy) %>% \n",
    "    pivot_longer(cols = -d_diagnosed, names_to = 'source', values_to = 'percent') %>% \n",
    "    group_by(d_diagnosed, source) %>% \n",
    "    summarise(m_percent = mean(percent), sd_percent = sd(percent)) %>% \n",
    "    mutate(m_percent = round(m_percent, 0), sd_percent = round(sd_percent, 0), \n",
    "           dist = paste(m_percent, sd_percent, sep='')) %>% \n",
    "    select(d_diagnosed, source, dist) %>% \n",
    "    pivot_wider(names_from = d_diagnosed, values_from = dist) %>% \n",
    "    mutate(condition = 'd_diagnosed') %>% \n",
    "    bind_cols(p_val = round(t_test_macro(\"d_diagnosed\", \"energy\")$p.val, 3))"
   ]
  },
  {
   "cell_type": "code",
   "execution_count": 11,
   "metadata": {},
   "outputs": [
    {
     "name": "stderr",
     "output_type": "stream",
     "text": [
      "`summarise()` has grouped output by 'overweight_obesity'. You can override using the `.groups` argument.\n",
      "\n"
     ]
    }
   ],
   "source": [
    "overob_macro <- macro_info %>% \n",
    "    mutate(overweight_obesity = ifelse(bmi >= 25, TRUE, FALSE)) %>% \n",
    "    na.omit() %>% \n",
    "    select(overweight_obesity, contains('percent')) %>% \n",
    "    pivot_longer(cols = -overweight_obesity, names_to = 'source', values_to = 'percent') %>% \n",
    "    mutate(source = str_remove(source, 'percent_')) %>% \n",
    "    group_by(overweight_obesity, source) %>% \n",
    "    summarise(m_percent = mean(percent), sd_percent = sd(percent)) %>% \n",
    "    mutate(m_percent = round(100*m_percent, 0), sd_percent = round(100*sd_percent, 0), \n",
    "           dist = paste(m_percent, '% ', sd_percent, '%', sep='')) %>% \n",
    "    select(overweight_obesity, source, dist) %>% \n",
    "    pivot_wider(names_from = overweight_obesity, values_from = dist) %>% \n",
    "    mutate(condition = 'overweight_obesity') %>% \n",
    "    bind_cols(tibble(p_val = c(t_test_macro(\"overweight_obesity\", \"carbohydrates\")$p.val, \n",
    "                               t_test_macro(\"overweight_obesity\", \"lipids\")$p.val, \n",
    "                               t_test_macro(\"overweight_obesity\", \"protein\")$p.val))) %>% \n",
    "    mutate(p_val = round(p_val, 3))"
   ]
  },
  {
   "cell_type": "code",
   "execution_count": 12,
   "metadata": {},
   "outputs": [
    {
     "name": "stderr",
     "output_type": "stream",
     "text": [
      "`summarise()` has grouped output by 'overweight_obesity'. You can override using the `.groups` argument.\n",
      "\n"
     ]
    }
   ],
   "source": [
    "energy_overob <- macro_info %>% \n",
    "    mutate(overweight_obesity = ifelse(bmi >= 25, TRUE, FALSE)) %>% \n",
    "    na.omit() %>% \n",
    "    select(overweight_obesity, energy) %>% \n",
    "    pivot_longer(cols = -overweight_obesity, names_to = 'source', values_to = 'percent') %>% \n",
    "    group_by(overweight_obesity, source) %>% \n",
    "    summarise(m_percent = mean(percent), sd_percent = sd(percent)) %>% \n",
    "    mutate(m_percent = round(m_percent, 0), sd_percent = round(sd_percent, 0), \n",
    "           dist = paste(m_percent, sd_percent, sep='')) %>% \n",
    "    select(overweight_obesity, source, dist) %>% \n",
    "    pivot_wider(names_from = overweight_obesity, values_from = dist) %>% \n",
    "    mutate(condition = 'overweight_obesity') %>% \n",
    "    bind_cols(p_val = round(t_test_macro(\"overweight_obesity\", \"energy\")$p.val, 3))"
   ]
  },
  {
   "cell_type": "code",
   "execution_count": 13,
   "metadata": {},
   "outputs": [
    {
     "data": {
      "text/html": [
       "<table class=\"dataframe\">\n",
       "<caption>A tibble: 9 × 5</caption>\n",
       "<thead>\n",
       "\t<tr><th scope=col>source</th><th scope=col>FALSE</th><th scope=col>TRUE</th><th scope=col>condition</th><th scope=col>p_val</th></tr>\n",
       "\t<tr><th scope=col>&lt;chr&gt;</th><th scope=col>&lt;chr&gt;</th><th scope=col>&lt;chr&gt;</th><th scope=col>&lt;chr&gt;</th><th scope=col>&lt;dbl&gt;</th></tr>\n",
       "</thead>\n",
       "<tbody>\n",
       "\t<tr><td>carbohydrate</td><td>54% 8%</td><td>55% 8%</td><td>met_s             </td><td>0.589</td></tr>\n",
       "\t<tr><td>lipids      </td><td>23% 5%</td><td>22% 5%</td><td>met_s             </td><td>0.841</td></tr>\n",
       "\t<tr><td>protein     </td><td>22% 5%</td><td>23% 5%</td><td>met_s             </td><td>0.394</td></tr>\n",
       "\t<tr><td>carbohydrate</td><td>55% 8%</td><td>55% 8%</td><td>dm2               </td><td>0.843</td></tr>\n",
       "\t<tr><td>lipids      </td><td>23% 5%</td><td>22% 6%</td><td>dm2               </td><td>0.214</td></tr>\n",
       "\t<tr><td>protein     </td><td>22% 5%</td><td>23% 5%</td><td>dm2               </td><td>0.537</td></tr>\n",
       "\t<tr><td>carbohydrate</td><td>55% 8%</td><td>55% 8%</td><td>overweight_obesity</td><td>0.954</td></tr>\n",
       "\t<tr><td>lipids      </td><td>23% 5%</td><td>23% 5%</td><td>overweight_obesity</td><td>0.450</td></tr>\n",
       "\t<tr><td>protein     </td><td>22% 5%</td><td>23% 5%</td><td>overweight_obesity</td><td>0.427</td></tr>\n",
       "</tbody>\n",
       "</table>\n"
      ],
      "text/latex": [
       "A tibble: 9 × 5\n",
       "\\begin{tabular}{lllll}\n",
       " source & FALSE & TRUE & condition & p\\_val\\\\\n",
       " <chr> & <chr> & <chr> & <chr> & <dbl>\\\\\n",
       "\\hline\n",
       "\t carbohydrate & 54\\% 8\\% & 55\\% 8\\% & met\\_s              & 0.589\\\\\n",
       "\t lipids       & 23\\% 5\\% & 22\\% 5\\% & met\\_s              & 0.841\\\\\n",
       "\t protein      & 22\\% 5\\% & 23\\% 5\\% & met\\_s              & 0.394\\\\\n",
       "\t carbohydrate & 55\\% 8\\% & 55\\% 8\\% & dm2                & 0.843\\\\\n",
       "\t lipids       & 23\\% 5\\% & 22\\% 6\\% & dm2                & 0.214\\\\\n",
       "\t protein      & 22\\% 5\\% & 23\\% 5\\% & dm2                & 0.537\\\\\n",
       "\t carbohydrate & 55\\% 8\\% & 55\\% 8\\% & overweight\\_obesity & 0.954\\\\\n",
       "\t lipids       & 23\\% 5\\% & 23\\% 5\\% & overweight\\_obesity & 0.450\\\\\n",
       "\t protein      & 22\\% 5\\% & 23\\% 5\\% & overweight\\_obesity & 0.427\\\\\n",
       "\\end{tabular}\n"
      ],
      "text/markdown": [
       "\n",
       "A tibble: 9 × 5\n",
       "\n",
       "| source &lt;chr&gt; | FALSE &lt;chr&gt; | TRUE &lt;chr&gt; | condition &lt;chr&gt; | p_val &lt;dbl&gt; |\n",
       "|---|---|---|---|---|\n",
       "| carbohydrate | 54% 8% | 55% 8% | met_s              | 0.589 |\n",
       "| lipids       | 23% 5% | 22% 5% | met_s              | 0.841 |\n",
       "| protein      | 22% 5% | 23% 5% | met_s              | 0.394 |\n",
       "| carbohydrate | 55% 8% | 55% 8% | dm2                | 0.843 |\n",
       "| lipids       | 23% 5% | 22% 6% | dm2                | 0.214 |\n",
       "| protein      | 22% 5% | 23% 5% | dm2                | 0.537 |\n",
       "| carbohydrate | 55% 8% | 55% 8% | overweight_obesity | 0.954 |\n",
       "| lipids       | 23% 5% | 23% 5% | overweight_obesity | 0.450 |\n",
       "| protein      | 22% 5% | 23% 5% | overweight_obesity | 0.427 |\n",
       "\n"
      ],
      "text/plain": [
       "  source       FALSE  TRUE   condition          p_val\n",
       "1 carbohydrate 54% 8% 55% 8% met_s              0.589\n",
       "2 lipids       23% 5% 22% 5% met_s              0.841\n",
       "3 protein      22% 5% 23% 5% met_s              0.394\n",
       "4 carbohydrate 55% 8% 55% 8% dm2                0.843\n",
       "5 lipids       23% 5% 22% 6% dm2                0.214\n",
       "6 protein      22% 5% 23% 5% dm2                0.537\n",
       "7 carbohydrate 55% 8% 55% 8% overweight_obesity 0.954\n",
       "8 lipids       23% 5% 23% 5% overweight_obesity 0.450\n",
       "9 protein      22% 5% 23% 5% overweight_obesity 0.427"
      ]
     },
     "metadata": {},
     "output_type": "display_data"
    }
   ],
   "source": [
    "bind_rows(mets_macro, dm2_macro, overob_macro) "
   ]
  },
  {
   "cell_type": "code",
   "execution_count": 14,
   "metadata": {},
   "outputs": [
    {
     "data": {
      "text/html": [
       "<table class=\"dataframe\">\n",
       "<caption>A tibble: 3 × 5</caption>\n",
       "<thead>\n",
       "\t<tr><th scope=col>source</th><th scope=col>FALSE</th><th scope=col>TRUE</th><th scope=col>condition</th><th scope=col>p_val</th></tr>\n",
       "\t<tr><th scope=col>&lt;chr&gt;</th><th scope=col>&lt;chr&gt;</th><th scope=col>&lt;chr&gt;</th><th scope=col>&lt;chr&gt;</th><th scope=col>&lt;dbl&gt;</th></tr>\n",
       "</thead>\n",
       "<tbody>\n",
       "\t<tr><td>energy</td><td>39442498</td><td>40132218</td><td>met_s             </td><td>0.675</td></tr>\n",
       "\t<tr><td>energy</td><td>39762398</td><td>39632204</td><td>d_diagnosed       </td><td>0.965</td></tr>\n",
       "\t<tr><td>energy</td><td>39372043</td><td>39852467</td><td>overweight_obesity</td><td>0.800</td></tr>\n",
       "</tbody>\n",
       "</table>\n"
      ],
      "text/latex": [
       "A tibble: 3 × 5\n",
       "\\begin{tabular}{lllll}\n",
       " source & FALSE & TRUE & condition & p\\_val\\\\\n",
       " <chr> & <chr> & <chr> & <chr> & <dbl>\\\\\n",
       "\\hline\n",
       "\t energy & 39442498 & 40132218 & met\\_s              & 0.675\\\\\n",
       "\t energy & 39762398 & 39632204 & d\\_diagnosed        & 0.965\\\\\n",
       "\t energy & 39372043 & 39852467 & overweight\\_obesity & 0.800\\\\\n",
       "\\end{tabular}\n"
      ],
      "text/markdown": [
       "\n",
       "A tibble: 3 × 5\n",
       "\n",
       "| source &lt;chr&gt; | FALSE &lt;chr&gt; | TRUE &lt;chr&gt; | condition &lt;chr&gt; | p_val &lt;dbl&gt; |\n",
       "|---|---|---|---|---|\n",
       "| energy | 39442498 | 40132218 | met_s              | 0.675 |\n",
       "| energy | 39762398 | 39632204 | d_diagnosed        | 0.965 |\n",
       "| energy | 39372043 | 39852467 | overweight_obesity | 0.800 |\n",
       "\n"
      ],
      "text/plain": [
       "  source FALSE    TRUE     condition          p_val\n",
       "1 energy 39442498 40132218 met_s              0.675\n",
       "2 energy 39762398 39632204 d_diagnosed        0.965\n",
       "3 energy 39372043 39852467 overweight_obesity 0.800"
      ]
     },
     "metadata": {},
     "output_type": "display_data"
    }
   ],
   "source": [
    "bind_rows(energy_met_s, energy_dm2, energy_overob)"
   ]
  },
  {
   "cell_type": "code",
   "execution_count": null,
   "metadata": {},
   "outputs": [],
   "source": []
  }
 ],
 "metadata": {
  "kernelspec": {
   "display_name": "R",
   "language": "R",
   "name": "ir"
  },
  "language_info": {
   "codemirror_mode": "r",
   "file_extension": ".r",
   "mimetype": "text/x-r-source",
   "name": "R",
   "pygments_lexer": "r",
   "version": "4.0.4"
  }
 },
 "nbformat": 4,
 "nbformat_minor": 4
}
