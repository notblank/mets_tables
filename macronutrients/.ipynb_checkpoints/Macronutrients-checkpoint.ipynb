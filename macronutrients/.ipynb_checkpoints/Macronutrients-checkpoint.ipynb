{
 "cells": [
  {
   "cell_type": "code",
   "execution_count": 1,
   "metadata": {},
   "outputs": [
    {
     "name": "stderr",
     "output_type": "stream",
     "text": [
      "-- \u001b[1mAttaching packages\u001b[22m --------------------------------------------------------------- tidyverse 1.3.1 --\n",
      "\n",
      "\u001b[32mv\u001b[39m \u001b[34mggplot2\u001b[39m 3.3.3     \u001b[32mv\u001b[39m \u001b[34mpurrr  \u001b[39m 0.3.4\n",
      "\u001b[32mv\u001b[39m \u001b[34mtibble \u001b[39m 3.1.0     \u001b[32mv\u001b[39m \u001b[34mdplyr  \u001b[39m 1.0.5\n",
      "\u001b[32mv\u001b[39m \u001b[34mtidyr  \u001b[39m 1.1.3     \u001b[32mv\u001b[39m \u001b[34mstringr\u001b[39m 1.4.0\n",
      "\u001b[32mv\u001b[39m \u001b[34mreadr  \u001b[39m 1.4.0     \u001b[32mv\u001b[39m \u001b[34mforcats\u001b[39m 0.5.1\n",
      "\n",
      "-- \u001b[1mConflicts\u001b[22m ------------------------------------------------------------------ tidyverse_conflicts() --\n",
      "\u001b[31mx\u001b[39m \u001b[34mdplyr\u001b[39m::\u001b[32mfilter()\u001b[39m masks \u001b[34mstats\u001b[39m::filter()\n",
      "\u001b[31mx\u001b[39m \u001b[34mdplyr\u001b[39m::\u001b[32mlag()\u001b[39m    masks \u001b[34mstats\u001b[39m::lag()\n",
      "\n",
      "Loading required package: carData\n",
      "\n",
      "\n",
      "Attaching package: 'car'\n",
      "\n",
      "\n",
      "The following object is masked from 'package:dplyr':\n",
      "\n",
      "    recode\n",
      "\n",
      "\n",
      "The following object is masked from 'package:purrr':\n",
      "\n",
      "    some\n",
      "\n",
      "\n",
      "Loading required package: Hmisc\n",
      "\n",
      "Loading required package: lattice\n",
      "\n",
      "Loading required package: survival\n",
      "\n",
      "Loading required package: Formula\n",
      "\n",
      "\n",
      "Attaching package: 'Hmisc'\n",
      "\n",
      "\n",
      "The following objects are masked from 'package:dplyr':\n",
      "\n",
      "    src, summarize\n",
      "\n",
      "\n",
      "The following objects are masked from 'package:base':\n",
      "\n",
      "    format.pval, units\n",
      "\n",
      "\n",
      "Loading required package: SparseM\n",
      "\n",
      "\n",
      "Attaching package: 'SparseM'\n",
      "\n",
      "\n",
      "The following object is masked from 'package:base':\n",
      "\n",
      "    backsolve\n",
      "\n",
      "\n",
      "\n",
      "Attaching package: 'rms'\n",
      "\n",
      "\n",
      "The following objects are masked from 'package:car':\n",
      "\n",
      "    Predict, vif\n",
      "\n",
      "\n"
     ]
    }
   ],
   "source": [
    "library(tidyverse)\n",
    "library(broom)\n",
    "library(car)\n",
    "library(rms)"
   ]
  },
  {
   "cell_type": "code",
   "execution_count": 5,
   "metadata": {},
   "outputs": [
    {
     "name": "stderr",
     "output_type": "stream",
     "text": [
      "\n",
      "\u001b[36m--\u001b[39m \u001b[1m\u001b[1mColumn specification\u001b[1m\u001b[22m \u001b[36m--------------------------------------------------------------------------------\u001b[39m\n",
      "cols(\n",
      "  id = \u001b[32mcol_double()\u001b[39m,\n",
      "  pure_name = \u001b[31mcol_character()\u001b[39m,\n",
      "  pure_portion = \u001b[32mcol_double()\u001b[39m,\n",
      "  weight_portion_gr = \u001b[32mcol_double()\u001b[39m,\n",
      "  type = \u001b[31mcol_character()\u001b[39m,\n",
      "  name = \u001b[31mcol_character()\u001b[39m,\n",
      "  amount_per_portion = \u001b[32mcol_double()\u001b[39m,\n",
      "  amount_per_day = \u001b[32mcol_double()\u001b[39m,\n",
      "  gr_per_day = \u001b[32mcol_double()\u001b[39m\n",
      ")\n",
      "\n",
      "\n",
      "\n",
      "\u001b[36m--\u001b[39m \u001b[1m\u001b[1mColumn specification\u001b[1m\u001b[22m \u001b[36m--------------------------------------------------------------------------------\u001b[39m\n",
      "cols(\n",
      "  .default = col_double(),\n",
      "  beef_cat = \u001b[31mcol_character()\u001b[39m,\n",
      "  dairy_cat = \u001b[31mcol_character()\u001b[39m,\n",
      "  legumes_cat = \u001b[31mcol_character()\u001b[39m,\n",
      "  white_meat_cat = \u001b[31mcol_character()\u001b[39m,\n",
      "  sex = \u001b[31mcol_character()\u001b[39m,\n",
      "  location_type = \u001b[31mcol_character()\u001b[39m,\n",
      "  education = \u001b[31mcol_character()\u001b[39m,\n",
      "  smokes = \u001b[31mcol_character()\u001b[39m,\n",
      "  drinks = \u001b[31mcol_character()\u001b[39m,\n",
      "  elevated_bp = \u001b[33mcol_logical()\u001b[39m,\n",
      "  elevated_wcm = \u001b[33mcol_logical()\u001b[39m,\n",
      "  elevated_triglycerids_mg_d_l = \u001b[33mcol_logical()\u001b[39m,\n",
      "  elevated_glucose_mg_d_l = \u001b[33mcol_logical()\u001b[39m,\n",
      "  low_hdl_mg_d_l = \u001b[33mcol_logical()\u001b[39m,\n",
      "  met_s = \u001b[33mcol_logical()\u001b[39m\n",
      ")\n",
      "\u001b[36mi\u001b[39m<U+00A0>Use \u001b[30m\u001b[47m\u001b[30m\u001b[47m`spec()`\u001b[47m\u001b[30m\u001b[49m\u001b[39m for the full column specifications.\n",
      "\n",
      "\n",
      "\n",
      "\u001b[36m--\u001b[39m \u001b[1m\u001b[1mColumn specification\u001b[1m\u001b[22m \u001b[36m--------------------------------------------------------------------------------\u001b[39m\n",
      "cols(\n",
      "  .default = col_double(),\n",
      "  sex = \u001b[31mcol_character()\u001b[39m,\n",
      "  education = \u001b[31mcol_character()\u001b[39m,\n",
      "  prediag = \u001b[31mcol_character()\u001b[39m,\n",
      "  years_after_diag = \u001b[31mcol_character()\u001b[39m,\n",
      "  medicated = \u001b[31mcol_character()\u001b[39m,\n",
      "  medication = \u001b[31mcol_character()\u001b[39m,\n",
      "  imc_diagnostico = \u001b[31mcol_character()\u001b[39m,\n",
      "  smokes = \u001b[31mcol_character()\u001b[39m,\n",
      "  community = \u001b[31mcol_character()\u001b[39m,\n",
      "  drinks = \u001b[31mcol_character()\u001b[39m,\n",
      "  h_aware = \u001b[33mcol_logical()\u001b[39m,\n",
      "  d_aware = \u001b[33mcol_logical()\u001b[39m,\n",
      "  c_aware = \u001b[33mcol_logical()\u001b[39m,\n",
      "  high_blood_pressure = \u001b[33mcol_logical()\u001b[39m,\n",
      "  high_blood_sugar_mg_d_l = \u001b[33mcol_logical()\u001b[39m,\n",
      "  high_triglycerids_mg_d_l = \u001b[33mcol_logical()\u001b[39m,\n",
      "  high_ldl_mg_d_l = \u001b[33mcol_logical()\u001b[39m,\n",
      "  high_total_cholesterol_mg_d_l = \u001b[33mcol_logical()\u001b[39m,\n",
      "  low_hdl_mg_d_l = \u001b[33mcol_logical()\u001b[39m,\n",
      "  abdominal_obesity_cm = \u001b[33mcol_logical()\u001b[39m\n",
      "  # ... with 25 more columns\n",
      ")\n",
      "\u001b[36mi\u001b[39m<U+00A0>Use \u001b[30m\u001b[47m\u001b[30m\u001b[47m`spec()`\u001b[47m\u001b[30m\u001b[49m\u001b[39m for the full column specifications.\n",
      "\n",
      "\n"
     ]
    }
   ],
   "source": [
    "daily_info <- read_csv('../../pure2/Metabolic Syndrome/data/daily_info.csv') %>% \n",
    "                    mutate(name = case_when(name == 'total_lipid' ~ 'lipids', \n",
    "                                            name == 'carbohydrate_bydifference' ~ 'carbohydrates',\n",
    "                                            name == 'fiber_totaldietary' ~ 'fiber',\n",
    "                                            TRUE ~ name))\n",
    "portions_and_mets <- read_csv('../../pure2/Metabolic Syndrome/data/portions_and_mets.csv')\n",
    "pure_processed <- read_csv('../../pure2/Metabolic Syndrome/data/pureData_processed.csv')"
   ]
  },
  {
   "cell_type": "code",
   "execution_count": 6,
   "metadata": {},
   "outputs": [],
   "source": [
    "mets_conditions <- pure_processed %>% \n",
    "                        select(id, sex, income,\n",
    "                               systolic = 'systolic_mean', \n",
    "                               diastolic = 'diastolic_mean', \n",
    "                               hdl, ldl, triglycerides, glucose, \n",
    "                               waist = waist_mean, bmi, whr,\n",
    "                               d_diagnosed, h_diagnosed)"
   ]
  },
  {
   "cell_type": "code",
   "execution_count": 7,
   "metadata": {},
   "outputs": [
    {
     "data": {
      "text/html": [
       "<style>\n",
       ".list-inline {list-style: none; margin:0; padding: 0}\n",
       ".list-inline>li {display: inline-block}\n",
       ".list-inline>li:not(:last-child)::after {content: \"\\00b7\"; padding: 0 .5ex}\n",
       "</style>\n",
       "<ol class=list-inline><li>'id'</li><li>'sex'</li><li>'income'</li><li>'systolic'</li><li>'diastolic'</li><li>'hdl'</li><li>'ldl'</li><li>'triglycerides'</li><li>'glucose'</li><li>'waist'</li><li>'bmi'</li><li>'whr'</li><li>'d_diagnosed'</li><li>'h_diagnosed'</li></ol>\n"
      ],
      "text/latex": [
       "\\begin{enumerate*}\n",
       "\\item 'id'\n",
       "\\item 'sex'\n",
       "\\item 'income'\n",
       "\\item 'systolic'\n",
       "\\item 'diastolic'\n",
       "\\item 'hdl'\n",
       "\\item 'ldl'\n",
       "\\item 'triglycerides'\n",
       "\\item 'glucose'\n",
       "\\item 'waist'\n",
       "\\item 'bmi'\n",
       "\\item 'whr'\n",
       "\\item 'd\\_diagnosed'\n",
       "\\item 'h\\_diagnosed'\n",
       "\\end{enumerate*}\n"
      ],
      "text/markdown": [
       "1. 'id'\n",
       "2. 'sex'\n",
       "3. 'income'\n",
       "4. 'systolic'\n",
       "5. 'diastolic'\n",
       "6. 'hdl'\n",
       "7. 'ldl'\n",
       "8. 'triglycerides'\n",
       "9. 'glucose'\n",
       "10. 'waist'\n",
       "11. 'bmi'\n",
       "12. 'whr'\n",
       "13. 'd_diagnosed'\n",
       "14. 'h_diagnosed'\n",
       "\n",
       "\n"
      ],
      "text/plain": [
       " [1] \"id\"            \"sex\"           \"income\"        \"systolic\"     \n",
       " [5] \"diastolic\"     \"hdl\"           \"ldl\"           \"triglycerides\"\n",
       " [9] \"glucose\"       \"waist\"         \"bmi\"           \"whr\"          \n",
       "[13] \"d_diagnosed\"   \"h_diagnosed\"  "
      ]
     },
     "metadata": {},
     "output_type": "display_data"
    }
   ],
   "source": [
    "mets_conditions %>% names()"
   ]
  },
  {
   "cell_type": "code",
   "execution_count": 8,
   "metadata": {},
   "outputs": [
    {
     "name": "stderr",
     "output_type": "stream",
     "text": [
      "`summarise()` has grouped output by 'id'. You can override using the `.groups` argument.\n",
      "\n",
      "Warning message:\n",
      "\"Unknown levels in `f`: <U+2264> 0.5\"\n",
      "Warning message:\n",
      "\"Unknown levels in `f`: <U+2264> 0.5\"\n",
      "Warning message:\n",
      "\"Unknown levels in `f`: <U+2264> 0.5\"\n",
      "Warning message:\n",
      "\"Unknown levels in `f`: <U+2264> 0.5\"\n"
     ]
    },
    {
     "data": {
      "text/html": [
       "<table class=\"dataframe\">\n",
       "<caption>A tibble: 6 × 51</caption>\n",
       "<thead>\n",
       "\t<tr><th scope=col>id</th><th scope=col>carbohydrates</th><th scope=col>energy</th><th scope=col>fiber</th><th scope=col>lipids</th><th scope=col>protein</th><th scope=col>energy_macro</th><th scope=col>percent_carbohydrate</th><th scope=col>percent_protein</th><th scope=col>percent_lipids</th><th scope=col>⋯</th><th scope=col>diastolic</th><th scope=col>hdl</th><th scope=col>ldl</th><th scope=col>triglycerides</th><th scope=col>glucose</th><th scope=col>waist</th><th scope=col>bmi</th><th scope=col>whr</th><th scope=col>d_diagnosed</th><th scope=col>h_diagnosed</th></tr>\n",
       "\t<tr><th scope=col>&lt;dbl&gt;</th><th scope=col>&lt;dbl&gt;</th><th scope=col>&lt;dbl&gt;</th><th scope=col>&lt;dbl&gt;</th><th scope=col>&lt;dbl&gt;</th><th scope=col>&lt;dbl&gt;</th><th scope=col>&lt;dbl&gt;</th><th scope=col>&lt;dbl&gt;</th><th scope=col>&lt;dbl&gt;</th><th scope=col>&lt;dbl&gt;</th><th scope=col>⋯</th><th scope=col>&lt;dbl&gt;</th><th scope=col>&lt;dbl&gt;</th><th scope=col>&lt;dbl&gt;</th><th scope=col>&lt;dbl&gt;</th><th scope=col>&lt;dbl&gt;</th><th scope=col>&lt;dbl&gt;</th><th scope=col>&lt;dbl&gt;</th><th scope=col>&lt;dbl&gt;</th><th scope=col>&lt;lgl&gt;</th><th scope=col>&lt;lgl&gt;</th></tr>\n",
       "</thead>\n",
       "<tbody>\n",
       "\t<tr><td>2500100101</td><td>770.9608</td><td>5580.666</td><td>123.22187</td><td>171.38187</td><td>275.8529</td><td>5536.952</td><td>0.5221471</td><td>0.1992815</td><td>0.2785715</td><td>⋯</td><td>71</td><td>54.9</td><td>133.2</td><td>280.1</td><td> 94.6</td><td> 79.3</td><td>27.2</td><td>0.8850446</td><td>FALSE</td><td>FALSE</td></tr>\n",
       "\t<tr><td>2500100201</td><td>469.9130</td><td>3395.204</td><td> 67.20909</td><td> 89.79881</td><td>197.8507</td><td>3361.766</td><td>0.5241810</td><td>0.2354129</td><td>0.2404062</td><td>⋯</td><td>89</td><td>83.9</td><td>165.3</td><td>134.4</td><td> 92.0</td><td> 92.6</td><td>28.2</td><td>0.8793922</td><td>FALSE</td><td>FALSE</td></tr>\n",
       "\t<tr><td>2500100301</td><td>506.2671</td><td>3145.253</td><td> 42.27424</td><td> 80.76115</td><td>105.7285</td><td>3048.266</td><td>0.6228137</td><td>0.1387392</td><td>0.2384472</td><td>⋯</td><td>75</td><td>40.4</td><td> 93.7</td><td>184.1</td><td> 97.5</td><td> 99.5</td><td>28.9</td><td>1.0000000</td><td>FALSE</td><td> TRUE</td></tr>\n",
       "\t<tr><td>2500100302</td><td>505.9751</td><td>4522.306</td><td> 63.24273</td><td>153.58089</td><td>287.3866</td><td>4429.181</td><td>0.4283877</td><td>0.2595393</td><td>0.3120730</td><td>⋯</td><td>74</td><td>48.3</td><td>133.5</td><td>104.3</td><td> 79.0</td><td>104.0</td><td>26.9</td><td>1.1075612</td><td>FALSE</td><td>FALSE</td></tr>\n",
       "\t<tr><td>2500100401</td><td>446.0787</td><td>3402.737</td><td> 48.43991</td><td> 93.26682</td><td>203.9722</td><td>3328.085</td><td>0.5026299</td><td>0.2451526</td><td>0.2522175</td><td>⋯</td><td>93</td><td>37.2</td><td>204.2</td><td>153.9</td><td>125.5</td><td>105.3</td><td>31.9</td><td>1.0425743</td><td>FALSE</td><td> TRUE</td></tr>\n",
       "\t<tr><td>2500100402</td><td>324.1356</td><td>2465.029</td><td> 36.35588</td><td> 67.69798</td><td>147.7826</td><td>2415.921</td><td>0.5031244</td><td>0.2446812</td><td>0.2521945</td><td>⋯</td><td>90</td><td>69.1</td><td>137.9</td><td>193.1</td><td>157.9</td><td> 84.2</td><td>25.0</td><td>0.8394816</td><td> TRUE</td><td> TRUE</td></tr>\n",
       "</tbody>\n",
       "</table>\n"
      ],
      "text/latex": [
       "A tibble: 6 × 51\n",
       "\\begin{tabular}{lllllllllllllllllllll}\n",
       " id & carbohydrates & energy & fiber & lipids & protein & energy\\_macro & percent\\_carbohydrate & percent\\_protein & percent\\_lipids & ⋯ & diastolic & hdl & ldl & triglycerides & glucose & waist & bmi & whr & d\\_diagnosed & h\\_diagnosed\\\\\n",
       " <dbl> & <dbl> & <dbl> & <dbl> & <dbl> & <dbl> & <dbl> & <dbl> & <dbl> & <dbl> & ⋯ & <dbl> & <dbl> & <dbl> & <dbl> & <dbl> & <dbl> & <dbl> & <dbl> & <lgl> & <lgl>\\\\\n",
       "\\hline\n",
       "\t 2500100101 & 770.9608 & 5580.666 & 123.22187 & 171.38187 & 275.8529 & 5536.952 & 0.5221471 & 0.1992815 & 0.2785715 & ⋯ & 71 & 54.9 & 133.2 & 280.1 &  94.6 &  79.3 & 27.2 & 0.8850446 & FALSE & FALSE\\\\\n",
       "\t 2500100201 & 469.9130 & 3395.204 &  67.20909 &  89.79881 & 197.8507 & 3361.766 & 0.5241810 & 0.2354129 & 0.2404062 & ⋯ & 89 & 83.9 & 165.3 & 134.4 &  92.0 &  92.6 & 28.2 & 0.8793922 & FALSE & FALSE\\\\\n",
       "\t 2500100301 & 506.2671 & 3145.253 &  42.27424 &  80.76115 & 105.7285 & 3048.266 & 0.6228137 & 0.1387392 & 0.2384472 & ⋯ & 75 & 40.4 &  93.7 & 184.1 &  97.5 &  99.5 & 28.9 & 1.0000000 & FALSE &  TRUE\\\\\n",
       "\t 2500100302 & 505.9751 & 4522.306 &  63.24273 & 153.58089 & 287.3866 & 4429.181 & 0.4283877 & 0.2595393 & 0.3120730 & ⋯ & 74 & 48.3 & 133.5 & 104.3 &  79.0 & 104.0 & 26.9 & 1.1075612 & FALSE & FALSE\\\\\n",
       "\t 2500100401 & 446.0787 & 3402.737 &  48.43991 &  93.26682 & 203.9722 & 3328.085 & 0.5026299 & 0.2451526 & 0.2522175 & ⋯ & 93 & 37.2 & 204.2 & 153.9 & 125.5 & 105.3 & 31.9 & 1.0425743 & FALSE &  TRUE\\\\\n",
       "\t 2500100402 & 324.1356 & 2465.029 &  36.35588 &  67.69798 & 147.7826 & 2415.921 & 0.5031244 & 0.2446812 & 0.2521945 & ⋯ & 90 & 69.1 & 137.9 & 193.1 & 157.9 &  84.2 & 25.0 & 0.8394816 &  TRUE &  TRUE\\\\\n",
       "\\end{tabular}\n"
      ],
      "text/markdown": [
       "\n",
       "A tibble: 6 × 51\n",
       "\n",
       "| id &lt;dbl&gt; | carbohydrates &lt;dbl&gt; | energy &lt;dbl&gt; | fiber &lt;dbl&gt; | lipids &lt;dbl&gt; | protein &lt;dbl&gt; | energy_macro &lt;dbl&gt; | percent_carbohydrate &lt;dbl&gt; | percent_protein &lt;dbl&gt; | percent_lipids &lt;dbl&gt; | ⋯ ⋯ | diastolic &lt;dbl&gt; | hdl &lt;dbl&gt; | ldl &lt;dbl&gt; | triglycerides &lt;dbl&gt; | glucose &lt;dbl&gt; | waist &lt;dbl&gt; | bmi &lt;dbl&gt; | whr &lt;dbl&gt; | d_diagnosed &lt;lgl&gt; | h_diagnosed &lt;lgl&gt; |\n",
       "|---|---|---|---|---|---|---|---|---|---|---|---|---|---|---|---|---|---|---|---|---|\n",
       "| 2500100101 | 770.9608 | 5580.666 | 123.22187 | 171.38187 | 275.8529 | 5536.952 | 0.5221471 | 0.1992815 | 0.2785715 | ⋯ | 71 | 54.9 | 133.2 | 280.1 |  94.6 |  79.3 | 27.2 | 0.8850446 | FALSE | FALSE |\n",
       "| 2500100201 | 469.9130 | 3395.204 |  67.20909 |  89.79881 | 197.8507 | 3361.766 | 0.5241810 | 0.2354129 | 0.2404062 | ⋯ | 89 | 83.9 | 165.3 | 134.4 |  92.0 |  92.6 | 28.2 | 0.8793922 | FALSE | FALSE |\n",
       "| 2500100301 | 506.2671 | 3145.253 |  42.27424 |  80.76115 | 105.7285 | 3048.266 | 0.6228137 | 0.1387392 | 0.2384472 | ⋯ | 75 | 40.4 |  93.7 | 184.1 |  97.5 |  99.5 | 28.9 | 1.0000000 | FALSE |  TRUE |\n",
       "| 2500100302 | 505.9751 | 4522.306 |  63.24273 | 153.58089 | 287.3866 | 4429.181 | 0.4283877 | 0.2595393 | 0.3120730 | ⋯ | 74 | 48.3 | 133.5 | 104.3 |  79.0 | 104.0 | 26.9 | 1.1075612 | FALSE | FALSE |\n",
       "| 2500100401 | 446.0787 | 3402.737 |  48.43991 |  93.26682 | 203.9722 | 3328.085 | 0.5026299 | 0.2451526 | 0.2522175 | ⋯ | 93 | 37.2 | 204.2 | 153.9 | 125.5 | 105.3 | 31.9 | 1.0425743 | FALSE |  TRUE |\n",
       "| 2500100402 | 324.1356 | 2465.029 |  36.35588 |  67.69798 | 147.7826 | 2415.921 | 0.5031244 | 0.2446812 | 0.2521945 | ⋯ | 90 | 69.1 | 137.9 | 193.1 | 157.9 |  84.2 | 25.0 | 0.8394816 |  TRUE |  TRUE |\n",
       "\n"
      ],
      "text/plain": [
       "  id         carbohydrates energy   fiber     lipids    protein  energy_macro\n",
       "1 2500100101 770.9608      5580.666 123.22187 171.38187 275.8529 5536.952    \n",
       "2 2500100201 469.9130      3395.204  67.20909  89.79881 197.8507 3361.766    \n",
       "3 2500100301 506.2671      3145.253  42.27424  80.76115 105.7285 3048.266    \n",
       "4 2500100302 505.9751      4522.306  63.24273 153.58089 287.3866 4429.181    \n",
       "5 2500100401 446.0787      3402.737  48.43991  93.26682 203.9722 3328.085    \n",
       "6 2500100402 324.1356      2465.029  36.35588  67.69798 147.7826 2415.921    \n",
       "  percent_carbohydrate percent_protein percent_lipids <U+22EF>   diastolic hdl \n",
       "1 0.5221471            0.1992815       0.2785715      <U+22EF> 71        54.9\n",
       "2 0.5241810            0.2354129       0.2404062      <U+22EF> 89        83.9\n",
       "3 0.6228137            0.1387392       0.2384472      <U+22EF> 75        40.4\n",
       "4 0.4283877            0.2595393       0.3120730      <U+22EF> 74        48.3\n",
       "5 0.5026299            0.2451526       0.2522175      <U+22EF> 93        37.2\n",
       "6 0.5031244            0.2446812       0.2521945      <U+22EF> 90        69.1\n",
       "  ldl   triglycerides glucose waist bmi  whr       d_diagnosed h_diagnosed\n",
       "1 133.2 280.1          94.6    79.3 27.2 0.8850446 FALSE       FALSE      \n",
       "2 165.3 134.4          92.0    92.6 28.2 0.8793922 FALSE       FALSE      \n",
       "3  93.7 184.1          97.5    99.5 28.9 1.0000000 FALSE        TRUE      \n",
       "4 133.5 104.3          79.0   104.0 26.9 1.1075612 FALSE       FALSE      \n",
       "5 204.2 153.9         125.5   105.3 31.9 1.0425743 FALSE        TRUE      \n",
       "6 137.9 193.1         157.9    84.2 25.0 0.8394816  TRUE        TRUE      "
      ]
     },
     "metadata": {},
     "output_type": "display_data"
    }
   ],
   "source": [
    "energy_and_macronutrients  <- \n",
    "        daily_info %>% \n",
    "            filter(!is.na(name)) %>% \n",
    "            group_by(id, name) %>% \n",
    "            summarise(amount_per_day = sum(amount_per_day)) %>% \n",
    "            pivot_wider(names_from = name, values_from = amount_per_day) %>% \n",
    "            mutate(energy_macro = 3.75*carbohydrates + 4*protein + 9*lipids, \n",
    "                   percent_carbohydrate = 3.75*carbohydrates/energy_macro, \n",
    "                   percent_protein = 4*protein/energy_macro, \n",
    "                   percent_lipids = 9*lipids/energy_macro) %>%\n",
    "            ungroup() %>% \n",
    "            inner_join(portions_and_mets %>% select(-c(waist, bmi, whr)), by = 'id') %>% \n",
    "            inner_join(mets_conditions, by = 'id') %>% \n",
    "            mutate_at(vars(matches(\"_cat\")), fct_relevel, '≤ 0.5')\n",
    "\n",
    "energy_and_macronutrients %>% head()"
   ]
  },
  {
   "cell_type": "markdown",
   "metadata": {},
   "source": [
    "## Macronutrients and conditions"
   ]
  },
  {
   "cell_type": "code",
   "execution_count": 10,
   "metadata": {},
   "outputs": [
    {
     "data": {
      "text/html": [
       "<table class=\"dataframe\">\n",
       "<caption>A tibble: 3 × 3</caption>\n",
       "<thead>\n",
       "\t<tr><th scope=col>source</th><th scope=col>m_macro</th><th scope=col>sd_macro</th></tr>\n",
       "\t<tr><th scope=col>&lt;chr&gt;</th><th scope=col>&lt;dbl&gt;</th><th scope=col>&lt;dbl&gt;</th></tr>\n",
       "</thead>\n",
       "<tbody>\n",
       "\t<tr><td>percent_carbohydrate</td><td>54.7</td><td>7.8</td></tr>\n",
       "\t<tr><td>percent_lipids      </td><td>22.8</td><td>5.3</td></tr>\n",
       "\t<tr><td>percent_protein     </td><td>22.5</td><td>4.9</td></tr>\n",
       "</tbody>\n",
       "</table>\n"
      ],
      "text/latex": [
       "A tibble: 3 × 3\n",
       "\\begin{tabular}{lll}\n",
       " source & m\\_macro & sd\\_macro\\\\\n",
       " <chr> & <dbl> & <dbl>\\\\\n",
       "\\hline\n",
       "\t percent\\_carbohydrate & 54.7 & 7.8\\\\\n",
       "\t percent\\_lipids       & 22.8 & 5.3\\\\\n",
       "\t percent\\_protein      & 22.5 & 4.9\\\\\n",
       "\\end{tabular}\n"
      ],
      "text/markdown": [
       "\n",
       "A tibble: 3 × 3\n",
       "\n",
       "| source &lt;chr&gt; | m_macro &lt;dbl&gt; | sd_macro &lt;dbl&gt; |\n",
       "|---|---|---|\n",
       "| percent_carbohydrate | 54.7 | 7.8 |\n",
       "| percent_lipids       | 22.8 | 5.3 |\n",
       "| percent_protein      | 22.5 | 4.9 |\n",
       "\n"
      ],
      "text/plain": [
       "  source               m_macro sd_macro\n",
       "1 percent_carbohydrate 54.7    7.8     \n",
       "2 percent_lipids       22.8    5.3     \n",
       "3 percent_protein      22.5    4.9     "
      ]
     },
     "metadata": {},
     "output_type": "display_data"
    }
   ],
   "source": [
    "energy_and_macronutrients %>% \n",
    "    select(contains(\"percent_\")) %>% \n",
    "    pivot_longer(cols = contains(\"percent_\"), names_to = \"source\", values_to = \"percent\") %>% \n",
    "    group_by(source) %>% \n",
    "    summarise(m_macro = round(100*mean(percent), 1), sd_macro = round(100*sd(percent), 1))"
   ]
  },
  {
   "cell_type": "code",
   "execution_count": 11,
   "metadata": {},
   "outputs": [],
   "source": [
    "t_test_macro <- function(condition, macro){\n",
    "    \n",
    "    t_df <- energy_and_macronutrients %>% \n",
    "                mutate(overweight_obesity = ifelse(bmi >= 25, TRUE, FALSE)) %>% \n",
    "                na.omit() %>% \n",
    "                select(condition, macro) \n",
    "\n",
    "    t <- t.test(x = t_df %>% filter(get(condition) == TRUE), \n",
    "                y = t_df %>% filter(get(condition) == FALSE))\n",
    "    \n",
    "    return(t)\n",
    "}"
   ]
  },
  {
   "cell_type": "code",
   "execution_count": 12,
   "metadata": {
    "scrolled": true
   },
   "outputs": [
    {
     "name": "stderr",
     "output_type": "stream",
     "text": [
      "`summarise()` has grouped output by 'met_s'. You can override using the `.groups` argument.\n",
      "\n",
      "Note: Using an external vector in selections is ambiguous.\n",
      "\u001b[34mi\u001b[39m Use `all_of(condition)` instead of `condition` to silence this message.\n",
      "\u001b[34mi\u001b[39m See <https://tidyselect.r-lib.org/reference/faq-external-vector.html>.\n",
      "\u001b[90mThis message is displayed once per session.\u001b[39m\n",
      "\n",
      "Note: Using an external vector in selections is ambiguous.\n",
      "\u001b[34mi\u001b[39m Use `all_of(macro)` instead of `macro` to silence this message.\n",
      "\u001b[34mi\u001b[39m See <https://tidyselect.r-lib.org/reference/faq-external-vector.html>.\n",
      "\u001b[90mThis message is displayed once per session.\u001b[39m\n",
      "\n"
     ]
    }
   ],
   "source": [
    "energy_met_s <- energy_and_macronutrients %>% \n",
    "    na.omit() %>% \n",
    "    select(met_s, energy) %>% \n",
    "    pivot_longer(cols = -met_s, names_to = 'source', values_to = 'percent') %>% \n",
    "    group_by(met_s, source) %>% \n",
    "    summarise(m_percent = mean(percent), sd_percent = sd(percent)) %>% \n",
    "    mutate(m_percent = round(m_percent, 0), sd_percent = round(sd_percent, 0), \n",
    "           dist = paste(m_percent,sd_percent, sep='')) %>% \n",
    "    select(met_s, source, dist) %>% \n",
    "    pivot_wider(names_from = met_s, values_from = dist) %>% \n",
    "    mutate(condition = 'met_s') %>% \n",
    "    bind_cols(p_val = round(t_test_macro(\"met_s\", \"energy\")$p.val, 3))"
   ]
  },
  {
   "cell_type": "code",
   "execution_count": 13,
   "metadata": {},
   "outputs": [
    {
     "name": "stderr",
     "output_type": "stream",
     "text": [
      "`summarise()` has grouped output by 'met_s'. You can override using the `.groups` argument.\n",
      "\n"
     ]
    }
   ],
   "source": [
    "mets_macro <- energy_and_macronutrients %>% \n",
    "    na.omit() %>% \n",
    "    select(met_s, contains('percent')) %>% \n",
    "    pivot_longer(cols = -met_s, names_to = 'source', values_to = 'percent') %>% \n",
    "    mutate(source = str_remove(source, 'percent_')) %>% \n",
    "    group_by(met_s, source) %>% \n",
    "    summarise(m_percent = mean(percent), sd_percent = sd(percent)) %>% \n",
    "    mutate(m_percent = round(100*m_percent, 0), sd_percent = round(100*sd_percent, 0), \n",
    "           dist = paste(m_percent, '% ', sd_percent, '%', sep='')) %>% \n",
    "    select(met_s, source, dist) %>% \n",
    "    pivot_wider(names_from = met_s, values_from = dist) %>% \n",
    "    mutate(condition = 'met_s') %>% \n",
    "    bind_cols(tibble(p_val = c(t_test_macro(\"met_s\", \"carbohydrates\")$p.val, \n",
    "                               t_test_macro(\"met_s\", \"lipids\")$p.val, \n",
    "                               t_test_macro(\"met_s\", \"protein\")$p.val))) %>% \n",
    "    mutate(p_val = round(p_val, 3))"
   ]
  },
  {
   "cell_type": "code",
   "execution_count": 14,
   "metadata": {},
   "outputs": [
    {
     "name": "stderr",
     "output_type": "stream",
     "text": [
      "`summarise()` has grouped output by 'd_diagnosed'. You can override using the `.groups` argument.\n",
      "\n"
     ]
    }
   ],
   "source": [
    "dm2_macro <- energy_and_macronutrients %>% \n",
    "    na.omit() %>% \n",
    "    select(d_diagnosed, contains('percent')) %>% \n",
    "    pivot_longer(cols = -d_diagnosed, names_to = 'source', values_to = 'percent') %>% \n",
    "    mutate(source = str_remove(source, 'percent_')) %>% \n",
    "    group_by(d_diagnosed, source) %>% \n",
    "    summarise(m_percent = mean(percent), sd_percent = sd(percent)) %>% \n",
    "    mutate(m_percent = round(100*m_percent, 0), sd_percent = round(100*sd_percent, 0), \n",
    "           dist = paste(m_percent, '% ', sd_percent, '%', sep='')) %>% \n",
    "    select(d_diagnosed, source, dist) %>% \n",
    "    pivot_wider(names_from = d_diagnosed, values_from = dist)%>% \n",
    "    mutate(condition = 'dm2') %>% \n",
    "    bind_cols(tibble(p_val = c(t_test_macro(\"d_diagnosed\", \"carbohydrates\")$p.val, \n",
    "                               t_test_macro(\"d_diagnosed\", \"lipids\")$p.val, \n",
    "                               t_test_macro(\"d_diagnosed\", \"protein\")$p.val))) %>% \n",
    "    mutate(p_val = round(p_val, 3))"
   ]
  },
  {
   "cell_type": "code",
   "execution_count": 15,
   "metadata": {},
   "outputs": [
    {
     "name": "stderr",
     "output_type": "stream",
     "text": [
      "`summarise()` has grouped output by 'd_diagnosed'. You can override using the `.groups` argument.\n",
      "\n"
     ]
    }
   ],
   "source": [
    "energy_dm2 <- energy_and_macronutrients %>% \n",
    "    na.omit() %>% \n",
    "    select(d_diagnosed, energy) %>% \n",
    "    pivot_longer(cols = -d_diagnosed, names_to = 'source', values_to = 'percent') %>% \n",
    "    group_by(d_diagnosed, source) %>% \n",
    "    summarise(m_percent = mean(percent), sd_percent = sd(percent)) %>% \n",
    "    mutate(m_percent = round(m_percent, 0), sd_percent = round(sd_percent, 0), \n",
    "           dist = paste(m_percent, sd_percent, sep='')) %>% \n",
    "    select(d_diagnosed, source, dist) %>% \n",
    "    pivot_wider(names_from = d_diagnosed, values_from = dist) %>% \n",
    "    mutate(condition = 'd_diagnosed') %>% \n",
    "    bind_cols(p_val = round(t_test_macro(\"d_diagnosed\", \"energy\")$p.val, 3))"
   ]
  },
  {
   "cell_type": "code",
   "execution_count": 16,
   "metadata": {},
   "outputs": [
    {
     "name": "stderr",
     "output_type": "stream",
     "text": [
      "`summarise()` has grouped output by 'overweight_obesity'. You can override using the `.groups` argument.\n",
      "\n"
     ]
    }
   ],
   "source": [
    "overob_macro <- energy_and_macronutrients %>% \n",
    "    mutate(overweight_obesity = ifelse(bmi >= 25, TRUE, FALSE)) %>% \n",
    "    na.omit() %>% \n",
    "    select(overweight_obesity, contains('percent')) %>% \n",
    "    pivot_longer(cols = -overweight_obesity, names_to = 'source', values_to = 'percent') %>% \n",
    "    mutate(source = str_remove(source, 'percent_')) %>% \n",
    "    group_by(overweight_obesity, source) %>% \n",
    "    summarise(m_percent = mean(percent), sd_percent = sd(percent)) %>% \n",
    "    mutate(m_percent = round(100*m_percent, 0), sd_percent = round(100*sd_percent, 0), \n",
    "           dist = paste(m_percent, '% ', sd_percent, '%', sep='')) %>% \n",
    "    select(overweight_obesity, source, dist) %>% \n",
    "    pivot_wider(names_from = overweight_obesity, values_from = dist) %>% \n",
    "    mutate(condition = 'overweight_obesity') %>% \n",
    "    bind_cols(tibble(p_val = c(t_test_macro(\"overweight_obesity\", \"carbohydrates\")$p.val, \n",
    "                               t_test_macro(\"overweight_obesity\", \"lipids\")$p.val, \n",
    "                               t_test_macro(\"overweight_obesity\", \"protein\")$p.val))) %>% \n",
    "    mutate(p_val = round(p_val, 3))"
   ]
  },
  {
   "cell_type": "code",
   "execution_count": 17,
   "metadata": {},
   "outputs": [
    {
     "name": "stderr",
     "output_type": "stream",
     "text": [
      "`summarise()` has grouped output by 'overweight_obesity'. You can override using the `.groups` argument.\n",
      "\n"
     ]
    }
   ],
   "source": [
    "energy_overob <- energy_and_macronutrients %>% \n",
    "    mutate(overweight_obesity = ifelse(bmi >= 25, TRUE, FALSE)) %>% \n",
    "    na.omit() %>% \n",
    "    select(overweight_obesity, energy) %>% \n",
    "    pivot_longer(cols = -overweight_obesity, names_to = 'source', values_to = 'percent') %>% \n",
    "    group_by(overweight_obesity, source) %>% \n",
    "    summarise(m_percent = mean(percent), sd_percent = sd(percent)) %>% \n",
    "    mutate(m_percent = round(m_percent, 0), sd_percent = round(sd_percent, 0), \n",
    "           dist = paste(m_percent, sd_percent, sep='')) %>% \n",
    "    select(overweight_obesity, source, dist) %>% \n",
    "    pivot_wider(names_from = overweight_obesity, values_from = dist) %>% \n",
    "    mutate(condition = 'overweight_obesity') %>% \n",
    "    bind_cols(p_val = round(t_test_macro(\"overweight_obesity\", \"energy\")$p.val, 3))"
   ]
  },
  {
   "cell_type": "code",
   "execution_count": 19,
   "metadata": {},
   "outputs": [
    {
     "data": {
      "text/html": [
       "<table class=\"dataframe\">\n",
       "<caption>A tibble: 9 × 5</caption>\n",
       "<thead>\n",
       "\t<tr><th scope=col>source</th><th scope=col>FALSE</th><th scope=col>TRUE</th><th scope=col>condition</th><th scope=col>p_val</th></tr>\n",
       "\t<tr><th scope=col>&lt;chr&gt;</th><th scope=col>&lt;chr&gt;</th><th scope=col>&lt;chr&gt;</th><th scope=col>&lt;chr&gt;</th><th scope=col>&lt;dbl&gt;</th></tr>\n",
       "</thead>\n",
       "<tbody>\n",
       "\t<tr><td>carbohydrate</td><td>54% 8%</td><td>55% 8%</td><td>met_s             </td><td>0.589</td></tr>\n",
       "\t<tr><td>lipids      </td><td>23% 5%</td><td>22% 5%</td><td>met_s             </td><td>0.841</td></tr>\n",
       "\t<tr><td>protein     </td><td>22% 5%</td><td>23% 5%</td><td>met_s             </td><td>0.394</td></tr>\n",
       "\t<tr><td>carbohydrate</td><td>55% 8%</td><td>55% 8%</td><td>dm2               </td><td>0.843</td></tr>\n",
       "\t<tr><td>lipids      </td><td>23% 5%</td><td>22% 6%</td><td>dm2               </td><td>0.214</td></tr>\n",
       "\t<tr><td>protein     </td><td>22% 5%</td><td>23% 5%</td><td>dm2               </td><td>0.537</td></tr>\n",
       "\t<tr><td>carbohydrate</td><td>55% 8%</td><td>55% 8%</td><td>overweight_obesity</td><td>0.954</td></tr>\n",
       "\t<tr><td>lipids      </td><td>23% 5%</td><td>23% 5%</td><td>overweight_obesity</td><td>0.450</td></tr>\n",
       "\t<tr><td>protein     </td><td>22% 5%</td><td>23% 5%</td><td>overweight_obesity</td><td>0.427</td></tr>\n",
       "</tbody>\n",
       "</table>\n"
      ],
      "text/latex": [
       "A tibble: 9 × 5\n",
       "\\begin{tabular}{lllll}\n",
       " source & FALSE & TRUE & condition & p\\_val\\\\\n",
       " <chr> & <chr> & <chr> & <chr> & <dbl>\\\\\n",
       "\\hline\n",
       "\t carbohydrate & 54\\% 8\\% & 55\\% 8\\% & met\\_s              & 0.589\\\\\n",
       "\t lipids       & 23\\% 5\\% & 22\\% 5\\% & met\\_s              & 0.841\\\\\n",
       "\t protein      & 22\\% 5\\% & 23\\% 5\\% & met\\_s              & 0.394\\\\\n",
       "\t carbohydrate & 55\\% 8\\% & 55\\% 8\\% & dm2                & 0.843\\\\\n",
       "\t lipids       & 23\\% 5\\% & 22\\% 6\\% & dm2                & 0.214\\\\\n",
       "\t protein      & 22\\% 5\\% & 23\\% 5\\% & dm2                & 0.537\\\\\n",
       "\t carbohydrate & 55\\% 8\\% & 55\\% 8\\% & overweight\\_obesity & 0.954\\\\\n",
       "\t lipids       & 23\\% 5\\% & 23\\% 5\\% & overweight\\_obesity & 0.450\\\\\n",
       "\t protein      & 22\\% 5\\% & 23\\% 5\\% & overweight\\_obesity & 0.427\\\\\n",
       "\\end{tabular}\n"
      ],
      "text/markdown": [
       "\n",
       "A tibble: 9 × 5\n",
       "\n",
       "| source &lt;chr&gt; | FALSE &lt;chr&gt; | TRUE &lt;chr&gt; | condition &lt;chr&gt; | p_val &lt;dbl&gt; |\n",
       "|---|---|---|---|---|\n",
       "| carbohydrate | 54% 8% | 55% 8% | met_s              | 0.589 |\n",
       "| lipids       | 23% 5% | 22% 5% | met_s              | 0.841 |\n",
       "| protein      | 22% 5% | 23% 5% | met_s              | 0.394 |\n",
       "| carbohydrate | 55% 8% | 55% 8% | dm2                | 0.843 |\n",
       "| lipids       | 23% 5% | 22% 6% | dm2                | 0.214 |\n",
       "| protein      | 22% 5% | 23% 5% | dm2                | 0.537 |\n",
       "| carbohydrate | 55% 8% | 55% 8% | overweight_obesity | 0.954 |\n",
       "| lipids       | 23% 5% | 23% 5% | overweight_obesity | 0.450 |\n",
       "| protein      | 22% 5% | 23% 5% | overweight_obesity | 0.427 |\n",
       "\n"
      ],
      "text/plain": [
       "  source       FALSE  TRUE   condition          p_val\n",
       "1 carbohydrate 54% 8% 55% 8% met_s              0.589\n",
       "2 lipids       23% 5% 22% 5% met_s              0.841\n",
       "3 protein      22% 5% 23% 5% met_s              0.394\n",
       "4 carbohydrate 55% 8% 55% 8% dm2                0.843\n",
       "5 lipids       23% 5% 22% 6% dm2                0.214\n",
       "6 protein      22% 5% 23% 5% dm2                0.537\n",
       "7 carbohydrate 55% 8% 55% 8% overweight_obesity 0.954\n",
       "8 lipids       23% 5% 23% 5% overweight_obesity 0.450\n",
       "9 protein      22% 5% 23% 5% overweight_obesity 0.427"
      ]
     },
     "metadata": {},
     "output_type": "display_data"
    }
   ],
   "source": [
    "bind_rows(mets_macro, dm2_macro, overob_macro) "
   ]
  },
  {
   "cell_type": "code",
   "execution_count": 20,
   "metadata": {},
   "outputs": [
    {
     "data": {
      "text/html": [
       "<table class=\"dataframe\">\n",
       "<caption>A tibble: 3 × 5</caption>\n",
       "<thead>\n",
       "\t<tr><th scope=col>source</th><th scope=col>FALSE</th><th scope=col>TRUE</th><th scope=col>condition</th><th scope=col>p_val</th></tr>\n",
       "\t<tr><th scope=col>&lt;chr&gt;</th><th scope=col>&lt;chr&gt;</th><th scope=col>&lt;chr&gt;</th><th scope=col>&lt;chr&gt;</th><th scope=col>&lt;dbl&gt;</th></tr>\n",
       "</thead>\n",
       "<tbody>\n",
       "\t<tr><td>energy</td><td>39442498</td><td>40132218</td><td>met_s             </td><td>0.675</td></tr>\n",
       "\t<tr><td>energy</td><td>39762398</td><td>39632204</td><td>d_diagnosed       </td><td>0.965</td></tr>\n",
       "\t<tr><td>energy</td><td>39372043</td><td>39852467</td><td>overweight_obesity</td><td>0.800</td></tr>\n",
       "</tbody>\n",
       "</table>\n"
      ],
      "text/latex": [
       "A tibble: 3 × 5\n",
       "\\begin{tabular}{lllll}\n",
       " source & FALSE & TRUE & condition & p\\_val\\\\\n",
       " <chr> & <chr> & <chr> & <chr> & <dbl>\\\\\n",
       "\\hline\n",
       "\t energy & 39442498 & 40132218 & met\\_s              & 0.675\\\\\n",
       "\t energy & 39762398 & 39632204 & d\\_diagnosed        & 0.965\\\\\n",
       "\t energy & 39372043 & 39852467 & overweight\\_obesity & 0.800\\\\\n",
       "\\end{tabular}\n"
      ],
      "text/markdown": [
       "\n",
       "A tibble: 3 × 5\n",
       "\n",
       "| source &lt;chr&gt; | FALSE &lt;chr&gt; | TRUE &lt;chr&gt; | condition &lt;chr&gt; | p_val &lt;dbl&gt; |\n",
       "|---|---|---|---|---|\n",
       "| energy | 39442498 | 40132218 | met_s              | 0.675 |\n",
       "| energy | 39762398 | 39632204 | d_diagnosed        | 0.965 |\n",
       "| energy | 39372043 | 39852467 | overweight_obesity | 0.800 |\n",
       "\n"
      ],
      "text/plain": [
       "  source FALSE    TRUE     condition          p_val\n",
       "1 energy 39442498 40132218 met_s              0.675\n",
       "2 energy 39762398 39632204 d_diagnosed        0.965\n",
       "3 energy 39372043 39852467 overweight_obesity 0.800"
      ]
     },
     "metadata": {},
     "output_type": "display_data"
    }
   ],
   "source": [
    "bind_rows(energy_met_s, energy_dm2, energy_overob)"
   ]
  },
  {
   "cell_type": "code",
   "execution_count": null,
   "metadata": {},
   "outputs": [],
   "source": []
  }
 ],
 "metadata": {
  "kernelspec": {
   "display_name": "R",
   "language": "R",
   "name": "ir"
  },
  "language_info": {
   "codemirror_mode": "r",
   "file_extension": ".r",
   "mimetype": "text/x-r-source",
   "name": "R",
   "pygments_lexer": "r",
   "version": "4.0.5"
  }
 },
 "nbformat": 4,
 "nbformat_minor": 4
}
